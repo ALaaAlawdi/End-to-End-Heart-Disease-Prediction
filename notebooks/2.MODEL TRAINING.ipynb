{
 "cells": [
  {
   "cell_type": "markdown",
   "metadata": {
    "id": "276a051f",
    "papermill": {
     "duration": 0.021729,
     "end_time": "2023-02-03T20:27:02.099325",
     "exception": false,
     "start_time": "2023-02-03T20:27:02.077596",
     "status": "completed"
    },
    "tags": []
   },
   "source": [
    "# <div style=\"font-family: Trebuchet MS; background-color: #8A0030; color: #FFFFFF; padding: 12px; line-height: 1.5;\">1. | Introduction of Data 👋</div>"
   ]
  },
  {
   "cell_type": "markdown",
   "metadata": {
    "id": "bd3a7e48",
    "papermill": {
     "duration": 0.02101,
     "end_time": "2023-02-03T20:27:02.228306",
     "exception": false,
     "start_time": "2023-02-03T20:27:02.207296",
     "status": "completed"
    },
    "tags": []
   },
   "source": [
    "The [Personal Key Indicators of Heart Disease](https://www.kaggle.com/datasets/kamilpytlak/personal-key-indicators-of-heart-disease) dataset contains 320K rows and 18 columns. It is a cleaned, smaller version of the 2020 annual CDC (Centers for Disease Control and Prevention) survey data of 400k adults. For each patient (row), it contains the health status of that individual. The data was collected in the form of surveys conducted over the phone. Each year, the CDC calls around 400K U.S residents and asks them about their health status, with the vast majority of questions being yes or no questions. Below is a description of the features collected for each patient: \n",
    "\n",
    "\n",
    "| # | Feature | Description\n",
    "| --- | --- | --- \n",
    "| 1 | HeartDisease | Respondents that have ever reported having coronary heart disease (CHD) or myocardial infarction (MI)\n",
    "| 2 | BMI | Body Mass Index (BMI)\n",
    "| 3 | Smoking | Have you smoked at least 100 cigarettes in your entire life? [Note: 5 packs = 100 cigarettes]\n",
    "| 4 | AlcoholDrinking | Heavy drinkers (adult men having more than 14 drinks per week and adult women having more than 7 drinks per week\n",
    "| 5 | Stroke | (Ever told) (you had) a stroke?\n",
    "| 6 | PhysicalHealth | Now thinking about your physical health, which includes physical illness and injury, for how many days during the past 30 \n",
    "| 7 | MentalHealth | Thinking about your mental health, for how many days during the past 30 days was your mental health not good?\n",
    "| 8 | DiffWalking | Do you have serious difficulty walking or climbing stairs?\n",
    "| 9 | Sex | Are you male or female?\n",
    "| 10 | AgeCategory | Fourteen-level age category\n",
    "| 11 | Race | Imputed race/ethnicity value\n",
    "| 12 | Diabetic | (Ever told) (you had) diabetes?\n",
    "| 13 | PhysicalActivity | Adults who reported doing physical activity or exercise during the past 30 days other than their regular job\n",
    "| 14 | GenHealth | Would you say that in general your health is...\n",
    "| 15 | SleepTime | On average, how many hours of sleep do you get in a 24-hour period?\n",
    "| 16 | Asthma | (Ever told) (you had) asthma?\n",
    "| 17 | KidneyDisease | Not including kidney stones, bladder infection or incontinence, were you ever told you had kidney disease?\n",
    "| 18 | SkinCancer | (Ever told) (you had) skin cancer?"
   ]
  },
  {
   "cell_type": "markdown",
   "metadata": {
    "id": "035a79ff",
    "papermill": {
     "duration": 0.020842,
     "end_time": "2023-02-03T20:27:02.912199",
     "exception": false,
     "start_time": "2023-02-03T20:27:02.891357",
     "status": "completed"
    },
    "tags": []
   },
   "source": [
    "**Import the important library** "
   ]
  },
  {
   "cell_type": "code",
   "execution_count": 1,
   "metadata": {},
   "outputs": [
    {
     "name": "stdout",
     "output_type": "stream",
     "text": [
      "Requirement already satisfied: catboost in /usr/local/python/3.10.8/lib/python3.10/site-packages (1.2.2)\n",
      "Requirement already satisfied: graphviz in /usr/local/python/3.10.8/lib/python3.10/site-packages (from catboost) (0.20.1)\n",
      "Requirement already satisfied: matplotlib in /home/codespace/.local/lib/python3.10/site-packages (from catboost) (3.7.3)\n",
      "Requirement already satisfied: numpy>=1.16.0 in /home/codespace/.local/lib/python3.10/site-packages (from catboost) (1.25.2)\n",
      "Requirement already satisfied: pandas>=0.24 in /home/codespace/.local/lib/python3.10/site-packages (from catboost) (2.1.0)\n",
      "Requirement already satisfied: scipy in /home/codespace/.local/lib/python3.10/site-packages (from catboost) (1.11.2)\n",
      "Requirement already satisfied: plotly in /home/codespace/.local/lib/python3.10/site-packages (from catboost) (5.16.1)\n",
      "Requirement already satisfied: six in /home/codespace/.local/lib/python3.10/site-packages (from catboost) (1.16.0)\n",
      "Requirement already satisfied: python-dateutil>=2.8.2 in /home/codespace/.local/lib/python3.10/site-packages (from pandas>=0.24->catboost) (2.8.2)\n",
      "Requirement already satisfied: pytz>=2020.1 in /home/codespace/.local/lib/python3.10/site-packages (from pandas>=0.24->catboost) (2023.3.post1)\n",
      "Requirement already satisfied: tzdata>=2022.1 in /home/codespace/.local/lib/python3.10/site-packages (from pandas>=0.24->catboost) (2023.3)\n",
      "Requirement already satisfied: contourpy>=1.0.1 in /home/codespace/.local/lib/python3.10/site-packages (from matplotlib->catboost) (1.1.0)\n",
      "Requirement already satisfied: cycler>=0.10 in /home/codespace/.local/lib/python3.10/site-packages (from matplotlib->catboost) (0.11.0)\n",
      "Requirement already satisfied: fonttools>=4.22.0 in /home/codespace/.local/lib/python3.10/site-packages (from matplotlib->catboost) (4.42.1)\n",
      "Requirement already satisfied: kiwisolver>=1.0.1 in /home/codespace/.local/lib/python3.10/site-packages (from matplotlib->catboost) (1.4.5)\n",
      "Requirement already satisfied: packaging>=20.0 in /home/codespace/.local/lib/python3.10/site-packages (from matplotlib->catboost) (23.1)\n",
      "Requirement already satisfied: pillow>=6.2.0 in /home/codespace/.local/lib/python3.10/site-packages (from matplotlib->catboost) (10.0.0)\n",
      "Requirement already satisfied: pyparsing>=2.3.1 in /home/codespace/.local/lib/python3.10/site-packages (from matplotlib->catboost) (3.1.1)\n",
      "Requirement already satisfied: tenacity>=6.2.0 in /home/codespace/.local/lib/python3.10/site-packages (from plotly->catboost) (8.2.3)\n",
      "Note: you may need to restart the kernel to use updated packages.\n"
     ]
    }
   ],
   "source": [
    "pip install catboost"
   ]
  },
  {
   "cell_type": "code",
   "execution_count": 2,
   "metadata": {
    "id": "86f59a13",
    "papermill": {
     "duration": 1.497188,
     "end_time": "2023-02-03T20:27:04.430558",
     "exception": false,
     "start_time": "2023-02-03T20:27:02.933370",
     "status": "completed"
    },
    "tags": []
   },
   "outputs": [],
   "source": [
    "import numpy as np\n",
    "import pandas as pd\n",
    "import matplotlib.pyplot as plt\n",
    "import seaborn as sns\n",
    "from scipy.stats import kde, gaussian_kde\n",
    "from matplotlib import gridspec\n",
    "from sklearn.preprocessing import LabelEncoder , StandardScaler\n",
    "from imblearn.over_sampling import SMOTE, RandomOverSampler\n",
    "from sklearn.model_selection import train_test_split\n",
    "from catboost import CatBoostClassifier, Pool, cv\n",
    "from sklearn.model_selection import train_test_split\n",
    "from sklearn.metrics import confusion_matrix, classification_report, accuracy_score"
   ]
  },
  {
   "cell_type": "markdown",
   "metadata": {
    "id": "49e2c065",
    "papermill": {
     "duration": 0.021027,
     "end_time": "2023-02-03T20:27:04.473693",
     "exception": false,
     "start_time": "2023-02-03T20:27:04.452666",
     "status": "completed"
    },
    "tags": []
   },
   "source": [
    "**Read data by pd.read_csv from pandas and save it in df**"
   ]
  },
  {
   "cell_type": "code",
   "execution_count": 3,
   "metadata": {
    "id": "6a4542d8",
    "outputId": "13893a1b-5e52-42a2-8736-645cdb5760d9",
    "papermill": {
     "duration": 1.052652,
     "end_time": "2023-02-03T20:27:05.547619",
     "exception": false,
     "start_time": "2023-02-03T20:27:04.494967",
     "status": "completed"
    },
    "tags": []
   },
   "outputs": [
    {
     "data": {
      "text/html": [
       "<div>\n",
       "<style scoped>\n",
       "    .dataframe tbody tr th:only-of-type {\n",
       "        vertical-align: middle;\n",
       "    }\n",
       "\n",
       "    .dataframe tbody tr th {\n",
       "        vertical-align: top;\n",
       "    }\n",
       "\n",
       "    .dataframe thead th {\n",
       "        text-align: right;\n",
       "    }\n",
       "</style>\n",
       "<table border=\"1\" class=\"dataframe\">\n",
       "  <thead>\n",
       "    <tr style=\"text-align: right;\">\n",
       "      <th></th>\n",
       "      <th>HeartDisease</th>\n",
       "      <th>BMI</th>\n",
       "      <th>Smoking</th>\n",
       "      <th>AlcoholDrinking</th>\n",
       "      <th>Stroke</th>\n",
       "      <th>PhysicalHealth</th>\n",
       "      <th>MentalHealth</th>\n",
       "      <th>DiffWalking</th>\n",
       "      <th>Sex</th>\n",
       "      <th>AgeCategory</th>\n",
       "      <th>Race</th>\n",
       "      <th>Diabetic</th>\n",
       "      <th>PhysicalActivity</th>\n",
       "      <th>GenHealth</th>\n",
       "      <th>SleepTime</th>\n",
       "      <th>Asthma</th>\n",
       "      <th>KidneyDisease</th>\n",
       "      <th>SkinCancer</th>\n",
       "    </tr>\n",
       "  </thead>\n",
       "  <tbody>\n",
       "    <tr>\n",
       "      <th>0</th>\n",
       "      <td>No</td>\n",
       "      <td>16.60</td>\n",
       "      <td>Yes</td>\n",
       "      <td>No</td>\n",
       "      <td>No</td>\n",
       "      <td>3.0</td>\n",
       "      <td>30.0</td>\n",
       "      <td>No</td>\n",
       "      <td>Female</td>\n",
       "      <td>55-59</td>\n",
       "      <td>White</td>\n",
       "      <td>Yes</td>\n",
       "      <td>Yes</td>\n",
       "      <td>Very good</td>\n",
       "      <td>5.0</td>\n",
       "      <td>Yes</td>\n",
       "      <td>No</td>\n",
       "      <td>Yes</td>\n",
       "    </tr>\n",
       "    <tr>\n",
       "      <th>1</th>\n",
       "      <td>No</td>\n",
       "      <td>20.34</td>\n",
       "      <td>No</td>\n",
       "      <td>No</td>\n",
       "      <td>Yes</td>\n",
       "      <td>0.0</td>\n",
       "      <td>0.0</td>\n",
       "      <td>No</td>\n",
       "      <td>Female</td>\n",
       "      <td>80 or older</td>\n",
       "      <td>White</td>\n",
       "      <td>No</td>\n",
       "      <td>Yes</td>\n",
       "      <td>Very good</td>\n",
       "      <td>7.0</td>\n",
       "      <td>No</td>\n",
       "      <td>No</td>\n",
       "      <td>No</td>\n",
       "    </tr>\n",
       "    <tr>\n",
       "      <th>2</th>\n",
       "      <td>No</td>\n",
       "      <td>26.58</td>\n",
       "      <td>Yes</td>\n",
       "      <td>No</td>\n",
       "      <td>No</td>\n",
       "      <td>20.0</td>\n",
       "      <td>30.0</td>\n",
       "      <td>No</td>\n",
       "      <td>Male</td>\n",
       "      <td>65-69</td>\n",
       "      <td>White</td>\n",
       "      <td>Yes</td>\n",
       "      <td>Yes</td>\n",
       "      <td>Fair</td>\n",
       "      <td>8.0</td>\n",
       "      <td>Yes</td>\n",
       "      <td>No</td>\n",
       "      <td>No</td>\n",
       "    </tr>\n",
       "    <tr>\n",
       "      <th>3</th>\n",
       "      <td>No</td>\n",
       "      <td>24.21</td>\n",
       "      <td>No</td>\n",
       "      <td>No</td>\n",
       "      <td>No</td>\n",
       "      <td>0.0</td>\n",
       "      <td>0.0</td>\n",
       "      <td>No</td>\n",
       "      <td>Female</td>\n",
       "      <td>75-79</td>\n",
       "      <td>White</td>\n",
       "      <td>No</td>\n",
       "      <td>No</td>\n",
       "      <td>Good</td>\n",
       "      <td>6.0</td>\n",
       "      <td>No</td>\n",
       "      <td>No</td>\n",
       "      <td>Yes</td>\n",
       "    </tr>\n",
       "    <tr>\n",
       "      <th>4</th>\n",
       "      <td>No</td>\n",
       "      <td>23.71</td>\n",
       "      <td>No</td>\n",
       "      <td>No</td>\n",
       "      <td>No</td>\n",
       "      <td>28.0</td>\n",
       "      <td>0.0</td>\n",
       "      <td>Yes</td>\n",
       "      <td>Female</td>\n",
       "      <td>40-44</td>\n",
       "      <td>White</td>\n",
       "      <td>No</td>\n",
       "      <td>Yes</td>\n",
       "      <td>Very good</td>\n",
       "      <td>8.0</td>\n",
       "      <td>No</td>\n",
       "      <td>No</td>\n",
       "      <td>No</td>\n",
       "    </tr>\n",
       "    <tr>\n",
       "      <th>5</th>\n",
       "      <td>Yes</td>\n",
       "      <td>28.87</td>\n",
       "      <td>Yes</td>\n",
       "      <td>No</td>\n",
       "      <td>No</td>\n",
       "      <td>6.0</td>\n",
       "      <td>0.0</td>\n",
       "      <td>Yes</td>\n",
       "      <td>Female</td>\n",
       "      <td>75-79</td>\n",
       "      <td>Black</td>\n",
       "      <td>No</td>\n",
       "      <td>No</td>\n",
       "      <td>Fair</td>\n",
       "      <td>12.0</td>\n",
       "      <td>No</td>\n",
       "      <td>No</td>\n",
       "      <td>No</td>\n",
       "    </tr>\n",
       "    <tr>\n",
       "      <th>6</th>\n",
       "      <td>No</td>\n",
       "      <td>21.63</td>\n",
       "      <td>No</td>\n",
       "      <td>No</td>\n",
       "      <td>No</td>\n",
       "      <td>15.0</td>\n",
       "      <td>0.0</td>\n",
       "      <td>No</td>\n",
       "      <td>Female</td>\n",
       "      <td>70-74</td>\n",
       "      <td>White</td>\n",
       "      <td>No</td>\n",
       "      <td>Yes</td>\n",
       "      <td>Fair</td>\n",
       "      <td>4.0</td>\n",
       "      <td>Yes</td>\n",
       "      <td>No</td>\n",
       "      <td>Yes</td>\n",
       "    </tr>\n",
       "    <tr>\n",
       "      <th>7</th>\n",
       "      <td>No</td>\n",
       "      <td>31.64</td>\n",
       "      <td>Yes</td>\n",
       "      <td>No</td>\n",
       "      <td>No</td>\n",
       "      <td>5.0</td>\n",
       "      <td>0.0</td>\n",
       "      <td>Yes</td>\n",
       "      <td>Female</td>\n",
       "      <td>80 or older</td>\n",
       "      <td>White</td>\n",
       "      <td>Yes</td>\n",
       "      <td>No</td>\n",
       "      <td>Good</td>\n",
       "      <td>9.0</td>\n",
       "      <td>Yes</td>\n",
       "      <td>No</td>\n",
       "      <td>No</td>\n",
       "    </tr>\n",
       "    <tr>\n",
       "      <th>8</th>\n",
       "      <td>No</td>\n",
       "      <td>26.45</td>\n",
       "      <td>No</td>\n",
       "      <td>No</td>\n",
       "      <td>No</td>\n",
       "      <td>0.0</td>\n",
       "      <td>0.0</td>\n",
       "      <td>No</td>\n",
       "      <td>Female</td>\n",
       "      <td>80 or older</td>\n",
       "      <td>White</td>\n",
       "      <td>No, borderline diabetes</td>\n",
       "      <td>No</td>\n",
       "      <td>Fair</td>\n",
       "      <td>5.0</td>\n",
       "      <td>No</td>\n",
       "      <td>Yes</td>\n",
       "      <td>No</td>\n",
       "    </tr>\n",
       "    <tr>\n",
       "      <th>9</th>\n",
       "      <td>No</td>\n",
       "      <td>40.69</td>\n",
       "      <td>No</td>\n",
       "      <td>No</td>\n",
       "      <td>No</td>\n",
       "      <td>0.0</td>\n",
       "      <td>0.0</td>\n",
       "      <td>Yes</td>\n",
       "      <td>Male</td>\n",
       "      <td>65-69</td>\n",
       "      <td>White</td>\n",
       "      <td>No</td>\n",
       "      <td>Yes</td>\n",
       "      <td>Good</td>\n",
       "      <td>10.0</td>\n",
       "      <td>No</td>\n",
       "      <td>No</td>\n",
       "      <td>No</td>\n",
       "    </tr>\n",
       "  </tbody>\n",
       "</table>\n",
       "</div>"
      ],
      "text/plain": [
       "  HeartDisease    BMI Smoking AlcoholDrinking Stroke  PhysicalHealth  \\\n",
       "0           No  16.60     Yes              No     No             3.0   \n",
       "1           No  20.34      No              No    Yes             0.0   \n",
       "2           No  26.58     Yes              No     No            20.0   \n",
       "3           No  24.21      No              No     No             0.0   \n",
       "4           No  23.71      No              No     No            28.0   \n",
       "5          Yes  28.87     Yes              No     No             6.0   \n",
       "6           No  21.63      No              No     No            15.0   \n",
       "7           No  31.64     Yes              No     No             5.0   \n",
       "8           No  26.45      No              No     No             0.0   \n",
       "9           No  40.69      No              No     No             0.0   \n",
       "\n",
       "   MentalHealth DiffWalking     Sex  AgeCategory   Race  \\\n",
       "0          30.0          No  Female        55-59  White   \n",
       "1           0.0          No  Female  80 or older  White   \n",
       "2          30.0          No    Male        65-69  White   \n",
       "3           0.0          No  Female        75-79  White   \n",
       "4           0.0         Yes  Female        40-44  White   \n",
       "5           0.0         Yes  Female        75-79  Black   \n",
       "6           0.0          No  Female        70-74  White   \n",
       "7           0.0         Yes  Female  80 or older  White   \n",
       "8           0.0          No  Female  80 or older  White   \n",
       "9           0.0         Yes    Male        65-69  White   \n",
       "\n",
       "                  Diabetic PhysicalActivity  GenHealth  SleepTime Asthma  \\\n",
       "0                      Yes              Yes  Very good        5.0    Yes   \n",
       "1                       No              Yes  Very good        7.0     No   \n",
       "2                      Yes              Yes       Fair        8.0    Yes   \n",
       "3                       No               No       Good        6.0     No   \n",
       "4                       No              Yes  Very good        8.0     No   \n",
       "5                       No               No       Fair       12.0     No   \n",
       "6                       No              Yes       Fair        4.0    Yes   \n",
       "7                      Yes               No       Good        9.0    Yes   \n",
       "8  No, borderline diabetes               No       Fair        5.0     No   \n",
       "9                       No              Yes       Good       10.0     No   \n",
       "\n",
       "  KidneyDisease SkinCancer  \n",
       "0            No        Yes  \n",
       "1            No         No  \n",
       "2            No         No  \n",
       "3            No        Yes  \n",
       "4            No         No  \n",
       "5            No         No  \n",
       "6            No        Yes  \n",
       "7            No         No  \n",
       "8           Yes         No  \n",
       "9            No         No  "
      ]
     },
     "execution_count": 3,
     "metadata": {},
     "output_type": "execute_result"
    }
   ],
   "source": [
    "# Import Dataset\n",
    "# df = pd.read_csv('G:\\\\tensorflow\\\\Feature Engineering Projects\\\\heart_2020_cleaned.csv')\n",
    "df = pd.read_csv('data/heart_2020_cleaned.csv')\n",
    "df.head(10)"
   ]
  },
  {
   "cell_type": "markdown",
   "metadata": {
    "id": "b0123bef",
    "papermill": {
     "duration": 0.021427,
     "end_time": "2023-02-03T20:27:05.591320",
     "exception": false,
     "start_time": "2023-02-03T20:27:05.569893",
     "status": "completed"
    },
    "tags": []
   },
   "source": [
    "**Show informations about the data**"
   ]
  },
  {
   "cell_type": "markdown",
   "metadata": {
    "id": "f95dbf87"
   },
   "source": [
    "# <div style=\"font-family: Trebuchet MS; background-color: #8A0030; color: #FFFFFF; padding: 12px; line-height: 1.5;\">3. | Cleaning Data👋</div>"
   ]
  },
  {
   "cell_type": "markdown",
   "metadata": {
    "id": "f6daa4a8"
   },
   "source": [
    "#### **Remove Duplicated rows** \n",
    "\n",
    "* Good practice to **remove duplicated rows** before oversampling. Oversampling is a technique used to balance an imbalanced dataset by increasing the number of samples in the minority class. If the dataset contains duplicated rows, they will be included in the oversampleddataset,leading to a further imbalance.\n",
    "\n",
    "* Additionally, duplicated rows can also skew the results of your model and affect the validity of your analysis, as each duplicated row will carry the same information and therefore contribute to the same result.\n",
    "\n",
    "* By **removing** **duplicated** **rows**, you can ensure that your dataset is more representative of the underlying population, and that the results of your analysis are more accurate and reliable.\n"
   ]
  },
  {
   "cell_type": "code",
   "execution_count": 4,
   "metadata": {
    "id": "b860d95b"
   },
   "outputs": [],
   "source": [
    "new_df = df.drop_duplicates() "
   ]
  },
  {
   "cell_type": "code",
   "execution_count": 5,
   "metadata": {
    "id": "7bc81d40",
    "outputId": "da1043e6-a594-4dcd-e3be-55b8e414b65c"
   },
   "outputs": [
    {
     "data": {
      "text/plain": [
       "(301717, 18)"
      ]
     },
     "execution_count": 5,
     "metadata": {},
     "output_type": "execute_result"
    }
   ],
   "source": [
    "new_df.shape "
   ]
  },
  {
   "cell_type": "markdown",
   "metadata": {
    "id": "e1916885",
    "papermill": {
     "duration": 0.023348,
     "end_time": "2023-02-03T20:27:08.266302",
     "exception": false,
     "start_time": "2023-02-03T20:27:08.242954",
     "status": "completed"
    },
    "tags": []
   },
   "source": [
    "**Solve Imbalance Problem In Heart Disease Column using Random Over Sampler technique** "
   ]
  },
  {
   "cell_type": "code",
   "execution_count": 6,
   "metadata": {
    "id": "c0f4bf7f"
   },
   "outputs": [],
   "source": [
    "# prepare variables to Solve Imbalance Problem In Heart Disease Column using Random Over Sampler techinque\n",
    "features = new_df.drop(columns =['HeartDisease'], axis = 1)\n",
    "target = new_df['HeartDisease']  "
   ]
  },
  {
   "cell_type": "code",
   "execution_count": 7,
   "metadata": {
    "id": "b098826e",
    "papermill": {
     "duration": 0.032065,
     "end_time": "2023-02-03T20:27:08.433458",
     "exception": false,
     "start_time": "2023-02-03T20:27:08.401393",
     "status": "completed"
    },
    "tags": []
   },
   "outputs": [],
   "source": [
    "oversample=RandomOverSampler(sampling_strategy='minority')\n",
    "x_resamled, y_resampled = oversample.fit_resample(features, target)"
   ]
  },
  {
   "cell_type": "code",
   "execution_count": 8,
   "metadata": {},
   "outputs": [
    {
     "name": "stdout",
     "output_type": "stream",
     "text": [
      "(548912, 18)\n"
     ]
    }
   ],
   "source": [
    "# Convert the arrays to a DataFrame\n",
    "cols =['BMI', 'Smoking', 'AlcoholDrinking', 'Stroke', 'PhysicalHealth',\n",
    "       'MentalHealth', 'DiffWalking', 'Sex', 'AgeCategory','Race' , 'Diabetic',\n",
    "       'PhysicalActivity', 'GenHealth', 'SleepTime', 'Asthma', 'KidneyDisease',\n",
    "       'SkinCancer', 'HeartDisease']\n",
    "data = pd.DataFrame(np.column_stack((x_resamled, y_resampled)), columns=cols)\n",
    "\n",
    "print(data.shape)"
   ]
  },
  {
   "cell_type": "code",
   "execution_count": 9,
   "metadata": {
    "id": "b932f48c",
    "outputId": "559e53e3-efbd-4e2c-9097-a1a6f5975e7e"
   },
   "outputs": [
    {
     "data": {
      "text/plain": [
       "HeartDisease\n",
       "No     274456\n",
       "Yes    274456\n",
       "Name: count, dtype: int64"
      ]
     },
     "execution_count": 9,
     "metadata": {},
     "output_type": "execute_result"
    }
   ],
   "source": [
    "# Now Count repated values in HeartDisease Column after Solving Imbalance Problem using Random Over Sampler techinque\n",
    "data['HeartDisease'].value_counts()"
   ]
  },
  {
   "cell_type": "code",
   "execution_count": 10,
   "metadata": {},
   "outputs": [
    {
     "name": "stderr",
     "output_type": "stream",
     "text": [
      "/home/codespace/.local/lib/python3.10/site-packages/seaborn/_oldcore.py:1498: FutureWarning: is_categorical_dtype is deprecated and will be removed in a future version. Use isinstance(dtype, CategoricalDtype) instead\n",
      "  if pd.api.types.is_categorical_dtype(vector):\n",
      "/home/codespace/.local/lib/python3.10/site-packages/seaborn/_oldcore.py:1498: FutureWarning: is_categorical_dtype is deprecated and will be removed in a future version. Use isinstance(dtype, CategoricalDtype) instead\n",
      "  if pd.api.types.is_categorical_dtype(vector):\n",
      "/home/codespace/.local/lib/python3.10/site-packages/seaborn/_oldcore.py:1498: FutureWarning: is_categorical_dtype is deprecated and will be removed in a future version. Use isinstance(dtype, CategoricalDtype) instead\n",
      "  if pd.api.types.is_categorical_dtype(vector):\n"
     ]
    },
    {
     "data": {
      "text/plain": [
       "<Axes: xlabel='HeartDisease', ylabel='count'>"
      ]
     },
     "execution_count": 10,
     "metadata": {},
     "output_type": "execute_result"
    },
    {
     "data": {
      "image/png": "[encoded data removed]",
      "text/plain": [
       "<Figure size 640x480 with 1 Axes>"
      ]
     },
     "metadata": {},
     "output_type": "display_data"
    }
   ],
   "source": [
    "#the distribution of the target variable\n",
    "sns.countplot(x='HeartDisease',data=data,palette='pastel')"
   ]
  },
  {
   "cell_type": "markdown",
   "metadata": {
    "id": "ada4d2a3"
   },
   "source": [
    "# <div style=\"font-family: Trebuchet MS; background-color: #8A0030; color: #FFFFFF; padding: 12px; line-height: 1.5;\">4. | Encoding  Categorical columns 👋</div>"
   ]
  },
  {
   "cell_type": "markdown",
   "metadata": {},
   "source": [
    "* label multiple binary columns with **\"yes\" and \"no\"** , we will use a loop and the map function.etc., you can label them like this:"
   ]
  },
  {
   "cell_type": "code",
   "execution_count": 11,
   "metadata": {
    "id": "52bae163"
   },
   "outputs": [],
   "source": [
    "binary_columns = ['HeartDisease', 'Smoking', 'AlcoholDrinking', 'Stroke', 'DiffWalking', 'PhysicalActivity' , 'Asthma', 'KidneyDisease', 'SkinCancer']\n",
    "\n",
    "for column in binary_columns:\n",
    "    data[column] = data[column].replace({'No':0 , 'Yes':1}) "
   ]
  },
  {
   "cell_type": "markdown",
   "metadata": {},
   "source": [
    " * label the values in a column representing the sex of individuals, you can use the map function. For example, if you have a pandas DataFrame with a column named \"sex\" and the values are represented as integers (e.g. **0 for female, 1 for male**), you can label it like this:"
   ]
  },
  {
   "cell_type": "code",
   "execution_count": 12,
   "metadata": {},
   "outputs": [],
   "source": [
    "data['Sex'] = data['Sex'].replace({'Female':0 ,  'Male':1}) "
   ]
  },
  {
   "cell_type": "markdown",
   "metadata": {},
   "source": [
    "* label the values in a column representing the general health status of individuals, you can use the map function.\"genhealth\" and the values are represented as integers (e.g. **3 for excellent ,3 for Very Good , 2 for good ,1 for fair, 0 for poor**), you can label it like this:"
   ]
  },
  {
   "cell_type": "code",
   "execution_count": 13,
   "metadata": {},
   "outputs": [],
   "source": [
    "data['GenHealth'] = data['GenHealth'].map({'Poor':0, 'Fair':1, 'Good':2, 'Very good':3, 'Excellent':4})    "
   ]
  },
  {
   "cell_type": "markdown",
   "metadata": {},
   "source": [
    "* label the values in a column representing whether individuals have diabetes or not,\"diabetic\" and the values are represented as integers (**{'No':0, 'No, borderline diabetes':1, 'Yes (during pregnancy)':2, 'Yes':3}**\n"
   ]
  },
  {
   "cell_type": "code",
   "execution_count": 14,
   "metadata": {},
   "outputs": [],
   "source": [
    "data['Diabetic'] = data['Diabetic'].replace({'No':0 , 'No, borderline diabetes':1 ,  'Yes (during pregnancy)':2 , 'Yes':3})                   "
   ]
  },
  {
   "cell_type": "markdown",
   "metadata": {},
   "source": [
    "* label the values in a column representing the time individuals spend sleeping, \"sleep_time\" representing the time individuals spend sleeping in hours, you can label it like this:\n",
    "      * bins = (0, 6, 8, 24)\n",
    "      * labels = **('less than 6 hours', '6-8 hours', 'more than 8 hours')**"
   ]
  },
  {
   "cell_type": "code",
   "execution_count": 15,
   "metadata": {},
   "outputs": [],
   "source": [
    "col = 'SleepTime'\n",
    "data.loc[ (data[col] <= 6) , col ] = 0 \n",
    "data.loc[ (data[col] > 6) & (data[col] <= 8 ) , col ] = 1\n",
    "data.loc[ (data[col] > 8 ) & (data[col] <=24), col ] = 2    "
   ]
  },
  {
   "cell_type": "code",
   "execution_count": 16,
   "metadata": {},
   "outputs": [
    {
     "data": {
      "text/plain": [
       "PhysicalHealth\n",
       "0    447773\n",
       "3     64152\n",
       "1     31417\n",
       "2      5570\n",
       "Name: count, dtype: int64"
      ]
     },
     "execution_count": 16,
     "metadata": {},
     "output_type": "execute_result"
    }
   ],
   "source": [
    "cols =['PhysicalHealth' ,'MentalHealth']\n",
    "\n",
    "for col in cols:\n",
    "        data.loc[ data[col] <=10 , col ] = 0\n",
    "        data.loc[ (data[col] > 10) & (data[col] <=20 ) , col ] = 1\n",
    "        data.loc[ (data[col] > 20) & (data[col] <=25 ) , col ] = 2\n",
    "        data.loc[ (data[col] > 25) & (data[col] <=30 ) , col ] = 3\n",
    "        \n",
    "data[cols[0]].value_counts()  "
   ]
  },
  {
   "cell_type": "code",
   "execution_count": 17,
   "metadata": {},
   "outputs": [
    {
     "data": {
      "text/html": [
       "<div>\n",
       "<style scoped>\n",
       "    .dataframe tbody tr th:only-of-type {\n",
       "        vertical-align: middle;\n",
       "    }\n",
       "\n",
       "    .dataframe tbody tr th {\n",
       "        vertical-align: top;\n",
       "    }\n",
       "\n",
       "    .dataframe thead th {\n",
       "        text-align: right;\n",
       "    }\n",
       "</style>\n",
       "<table border=\"1\" class=\"dataframe\">\n",
       "  <thead>\n",
       "    <tr style=\"text-align: right;\">\n",
       "      <th></th>\n",
       "      <th>BMI</th>\n",
       "      <th>Smoking</th>\n",
       "      <th>AlcoholDrinking</th>\n",
       "      <th>Stroke</th>\n",
       "      <th>PhysicalHealth</th>\n",
       "      <th>MentalHealth</th>\n",
       "      <th>DiffWalking</th>\n",
       "      <th>Sex</th>\n",
       "      <th>AgeCategory</th>\n",
       "      <th>Race</th>\n",
       "      <th>Diabetic</th>\n",
       "      <th>PhysicalActivity</th>\n",
       "      <th>GenHealth</th>\n",
       "      <th>SleepTime</th>\n",
       "      <th>Asthma</th>\n",
       "      <th>KidneyDisease</th>\n",
       "      <th>SkinCancer</th>\n",
       "      <th>HeartDisease</th>\n",
       "    </tr>\n",
       "  </thead>\n",
       "  <tbody>\n",
       "    <tr>\n",
       "      <th>0</th>\n",
       "      <td>16.6</td>\n",
       "      <td>1</td>\n",
       "      <td>0</td>\n",
       "      <td>0</td>\n",
       "      <td>0</td>\n",
       "      <td>3</td>\n",
       "      <td>0</td>\n",
       "      <td>0</td>\n",
       "      <td>55-59</td>\n",
       "      <td>White</td>\n",
       "      <td>3</td>\n",
       "      <td>1</td>\n",
       "      <td>3</td>\n",
       "      <td>0</td>\n",
       "      <td>1</td>\n",
       "      <td>0</td>\n",
       "      <td>1</td>\n",
       "      <td>0</td>\n",
       "    </tr>\n",
       "    <tr>\n",
       "      <th>1</th>\n",
       "      <td>20.34</td>\n",
       "      <td>0</td>\n",
       "      <td>0</td>\n",
       "      <td>1</td>\n",
       "      <td>0</td>\n",
       "      <td>0</td>\n",
       "      <td>0</td>\n",
       "      <td>0</td>\n",
       "      <td>80 or older</td>\n",
       "      <td>White</td>\n",
       "      <td>0</td>\n",
       "      <td>1</td>\n",
       "      <td>3</td>\n",
       "      <td>1</td>\n",
       "      <td>0</td>\n",
       "      <td>0</td>\n",
       "      <td>0</td>\n",
       "      <td>0</td>\n",
       "    </tr>\n",
       "    <tr>\n",
       "      <th>2</th>\n",
       "      <td>26.58</td>\n",
       "      <td>1</td>\n",
       "      <td>0</td>\n",
       "      <td>0</td>\n",
       "      <td>1</td>\n",
       "      <td>3</td>\n",
       "      <td>0</td>\n",
       "      <td>1</td>\n",
       "      <td>65-69</td>\n",
       "      <td>White</td>\n",
       "      <td>3</td>\n",
       "      <td>1</td>\n",
       "      <td>1</td>\n",
       "      <td>1</td>\n",
       "      <td>1</td>\n",
       "      <td>0</td>\n",
       "      <td>0</td>\n",
       "      <td>0</td>\n",
       "    </tr>\n",
       "    <tr>\n",
       "      <th>3</th>\n",
       "      <td>24.21</td>\n",
       "      <td>0</td>\n",
       "      <td>0</td>\n",
       "      <td>0</td>\n",
       "      <td>0</td>\n",
       "      <td>0</td>\n",
       "      <td>0</td>\n",
       "      <td>0</td>\n",
       "      <td>75-79</td>\n",
       "      <td>White</td>\n",
       "      <td>0</td>\n",
       "      <td>0</td>\n",
       "      <td>2</td>\n",
       "      <td>0</td>\n",
       "      <td>0</td>\n",
       "      <td>0</td>\n",
       "      <td>1</td>\n",
       "      <td>0</td>\n",
       "    </tr>\n",
       "    <tr>\n",
       "      <th>4</th>\n",
       "      <td>23.71</td>\n",
       "      <td>0</td>\n",
       "      <td>0</td>\n",
       "      <td>0</td>\n",
       "      <td>3</td>\n",
       "      <td>0</td>\n",
       "      <td>1</td>\n",
       "      <td>0</td>\n",
       "      <td>40-44</td>\n",
       "      <td>White</td>\n",
       "      <td>0</td>\n",
       "      <td>1</td>\n",
       "      <td>3</td>\n",
       "      <td>1</td>\n",
       "      <td>0</td>\n",
       "      <td>0</td>\n",
       "      <td>0</td>\n",
       "      <td>0</td>\n",
       "    </tr>\n",
       "  </tbody>\n",
       "</table>\n",
       "</div>"
      ],
      "text/plain": [
       "     BMI  Smoking  AlcoholDrinking  Stroke PhysicalHealth MentalHealth  \\\n",
       "0   16.6        1                0       0              0            3   \n",
       "1  20.34        0                0       1              0            0   \n",
       "2  26.58        1                0       0              1            3   \n",
       "3  24.21        0                0       0              0            0   \n",
       "4  23.71        0                0       0              3            0   \n",
       "\n",
       "   DiffWalking  Sex  AgeCategory   Race  Diabetic  PhysicalActivity  \\\n",
       "0            0    0        55-59  White         3                 1   \n",
       "1            0    0  80 or older  White         0                 1   \n",
       "2            0    1        65-69  White         3                 1   \n",
       "3            0    0        75-79  White         0                 0   \n",
       "4            1    0        40-44  White         0                 1   \n",
       "\n",
       "   GenHealth SleepTime  Asthma  KidneyDisease  SkinCancer  HeartDisease  \n",
       "0          3         0       1              0           1             0  \n",
       "1          3         1       0              0           0             0  \n",
       "2          1         1       1              0           0             0  \n",
       "3          2         0       0              0           1             0  \n",
       "4          3         1       0              0           0             0  "
      ]
     },
     "execution_count": 17,
     "metadata": {},
     "output_type": "execute_result"
    }
   ],
   "source": [
    "data.head()"
   ]
  },
  {
   "cell_type": "markdown",
   "metadata": {
    "id": "cb82a4eb"
   },
   "source": [
    "#### Get Information for Features and unique values in columns"
   ]
  },
  {
   "cell_type": "code",
   "execution_count": 18,
   "metadata": {
    "id": "e7e0f826",
    "outputId": "ca8e29c2-3e6f-45d7-d09b-bb055ad5cc86"
   },
   "outputs": [
    {
     "name": "stdout",
     "output_type": "stream",
     "text": [
      "BMI\n",
      "[16.6 20.34 26.58 ... 62.42 51.46 46.56] 3604 unique in BMI\n",
      "----------------------\n",
      "Smoking\n",
      "[1 0] 2 unique in Smoking\n",
      "----------------------\n",
      "AlcoholDrinking\n",
      "[0 1] 2 unique in AlcoholDrinking\n",
      "----------------------\n",
      "Stroke\n",
      "[0 1] 2 unique in Stroke\n",
      "----------------------\n",
      "PhysicalHealth\n",
      "[0 1 3 2] 4 unique in PhysicalHealth\n",
      "----------------------\n",
      "MentalHealth\n",
      "[3 0 1 2] 4 unique in MentalHealth\n",
      "----------------------\n",
      "DiffWalking\n",
      "[0 1] 2 unique in DiffWalking\n",
      "----------------------\n",
      "Sex\n",
      "[0 1] 2 unique in Sex\n",
      "----------------------\n",
      "AgeCategory\n",
      "['55-59' '80 or older' '65-69' '75-79' '40-44' '70-74' '60-64' '50-54'\n",
      " '45-49' '18-24' '35-39' '30-34' '25-29'] 13 unique in AgeCategory\n",
      "----------------------\n",
      "Race\n",
      "['White' 'Black' 'Asian' 'American Indian/Alaskan Native' 'Other'\n",
      " 'Hispanic'] 6 unique in Race\n",
      "----------------------\n",
      "Diabetic\n",
      "[3 0 1 2] 4 unique in Diabetic\n",
      "----------------------\n",
      "PhysicalActivity\n",
      "[1 0] 2 unique in PhysicalActivity\n",
      "----------------------\n",
      "GenHealth\n",
      "[3 1 2 0 4] 5 unique in GenHealth\n",
      "----------------------\n",
      "SleepTime\n",
      "[0 1 2] 3 unique in SleepTime\n",
      "----------------------\n",
      "Asthma\n",
      "[1 0] 2 unique in Asthma\n",
      "----------------------\n",
      "KidneyDisease\n",
      "[0 1] 2 unique in KidneyDisease\n",
      "----------------------\n",
      "SkinCancer\n",
      "[1 0] 2 unique in SkinCancer\n",
      "----------------------\n",
      "HeartDisease\n",
      "[0 1] 2 unique in HeartDisease\n",
      "----------------------\n"
     ]
    }
   ],
   "source": [
    "# Get Information for Features and unique values in columns\n",
    "for feature in data.columns:\n",
    "    print(feature)\n",
    "    print(data[feature].unique()  , len(data[feature].unique()) , 'unique in',feature )\n",
    "    print('----------------------')"
   ]
  },
  {
   "cell_type": "markdown",
   "metadata": {
    "id": "fcad5204",
    "papermill": {
     "duration": null,
     "end_time": null,
     "exception": null,
     "start_time": null,
     "status": "pending"
    },
    "tags": []
   },
   "source": [
    "# <div style=\"font-family: Trebuchet MS; background-color: #8A0030; color: #FFFFFF; padding: 12px; line-height: 1.5;\">1. |  feature extraction 👋</div>"
   ]
  },
  {
   "cell_type": "code",
   "execution_count": 19,
   "metadata": {},
   "outputs": [
    {
     "name": "stdout",
     "output_type": "stream",
     "text": [
      "[16.6 20.34 26.58 ... 62.42 51.46 46.56] 3604 unique in HeartDisease\n"
     ]
    }
   ],
   "source": [
    "data[\"BMI\"]\n",
    "print(data[\"BMI\"].unique()  , len(data[\"BMI\"].unique()) , 'unique in',feature ) "
   ]
  },
  {
   "cell_type": "markdown",
   "metadata": {},
   "source": [
    "![image.png](data:image/png;base64,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)"
   ]
  },
  {
   "cell_type": "code",
   "execution_count": 20,
   "metadata": {},
   "outputs": [],
   "source": [
    "#####Function used to transform BMI Values to categories\n",
    "def transform_bmi(value):\n",
    "    if value<16:\n",
    "        return 0\n",
    "    elif value>=16 and value<17:\n",
    "        return 1\n",
    "    elif value>=17 and value<18.5:\n",
    "        return 2\n",
    "    elif value>=18.5 and value<25:\n",
    "        return 3\n",
    "    elif value>=25 and value<30:\n",
    "        return 4\n",
    "    elif value>=30 and value<35:\n",
    "        return 5\n",
    "    elif value>=35 and value<40:\n",
    "        return 6\n",
    "    elif value>=40 :\n",
    "        return 7"
   ]
  },
  {
   "cell_type": "code",
   "execution_count": 21,
   "metadata": {},
   "outputs": [
    {
     "data": {
      "text/plain": [
       "BMI\n",
       "4    195125\n",
       "3    147912\n",
       "5    114883\n",
       "6     49419\n",
       "7     32892\n",
       "2      5913\n",
       "1      1444\n",
       "0      1324\n",
       "Name: count, dtype: int64"
      ]
     },
     "execution_count": 21,
     "metadata": {},
     "output_type": "execute_result"
    }
   ],
   "source": [
    "data[\"BMI\"] = data[\"BMI\"].apply(transform_bmi)\n",
    "data[\"BMI\"].value_counts(ascending= False)"
   ]
  },
  {
   "cell_type": "code",
   "execution_count": 22,
   "metadata": {},
   "outputs": [
    {
     "name": "stdout",
     "output_type": "stream",
     "text": [
      "['55-59' '80 or older' '65-69' '75-79' '40-44' '70-74' '60-64' '50-54'\n",
      " '45-49' '18-24' '35-39' '30-34' '25-29'] 13 unique in HeartDisease\n"
     ]
    }
   ],
   "source": [
    "data['AgeCategory']\n",
    "print(data['AgeCategory'].unique()  , len(data['AgeCategory'].unique()) , 'unique in',feature )"
   ]
  },
  {
   "cell_type": "markdown",
   "metadata": {},
   "source": [
    "* AgeCategories \n",
    "    - young(30<=AgeCategory <35)\n",
    "    - mature(35<=AgeCategory <50)\n",
    "    - senior(50<=AgeCategory <65)\n",
    "    - old(65<=AgeCategory <80)\n",
    "    - veryold(80<=AgeCategory )"
   ]
  },
  {
   "cell_type": "code",
   "execution_count": 23,
   "metadata": {},
   "outputs": [],
   "source": [
    "mapping = {'18-24':0, '25-29': 0, '30-34':0, '35-39':1 , \n",
    "           '40-44':1,  '45-49':1, '50-54':2, '55-59':'2', \n",
    "           '60-64':'2','65-69':'3', '70-74':'3', '75-79':'3', '80 or older':'4'}\n",
    "\n",
    "\n",
    "data['AgeCategory'] = data['AgeCategory'].replace(mapping)"
   ]
  },
  {
   "cell_type": "code",
   "execution_count": 24,
   "metadata": {},
   "outputs": [
    {
     "data": {
      "text/html": [
       "<div>\n",
       "<style scoped>\n",
       "    .dataframe tbody tr th:only-of-type {\n",
       "        vertical-align: middle;\n",
       "    }\n",
       "\n",
       "    .dataframe tbody tr th {\n",
       "        vertical-align: top;\n",
       "    }\n",
       "\n",
       "    .dataframe thead th {\n",
       "        text-align: right;\n",
       "    }\n",
       "</style>\n",
       "<table border=\"1\" class=\"dataframe\">\n",
       "  <thead>\n",
       "    <tr style=\"text-align: right;\">\n",
       "      <th></th>\n",
       "      <th>BMI</th>\n",
       "      <th>Smoking</th>\n",
       "      <th>AlcoholDrinking</th>\n",
       "      <th>Stroke</th>\n",
       "      <th>PhysicalHealth</th>\n",
       "      <th>MentalHealth</th>\n",
       "      <th>DiffWalking</th>\n",
       "      <th>Sex</th>\n",
       "      <th>AgeCategory</th>\n",
       "      <th>Race</th>\n",
       "      <th>Diabetic</th>\n",
       "      <th>PhysicalActivity</th>\n",
       "      <th>GenHealth</th>\n",
       "      <th>SleepTime</th>\n",
       "      <th>Asthma</th>\n",
       "      <th>KidneyDisease</th>\n",
       "      <th>SkinCancer</th>\n",
       "      <th>HeartDisease</th>\n",
       "    </tr>\n",
       "  </thead>\n",
       "  <tbody>\n",
       "    <tr>\n",
       "      <th>0</th>\n",
       "      <td>1</td>\n",
       "      <td>1</td>\n",
       "      <td>0</td>\n",
       "      <td>0</td>\n",
       "      <td>0</td>\n",
       "      <td>3</td>\n",
       "      <td>0</td>\n",
       "      <td>0</td>\n",
       "      <td>2</td>\n",
       "      <td>White</td>\n",
       "      <td>3</td>\n",
       "      <td>1</td>\n",
       "      <td>3</td>\n",
       "      <td>0</td>\n",
       "      <td>1</td>\n",
       "      <td>0</td>\n",
       "      <td>1</td>\n",
       "      <td>0</td>\n",
       "    </tr>\n",
       "    <tr>\n",
       "      <th>1</th>\n",
       "      <td>3</td>\n",
       "      <td>0</td>\n",
       "      <td>0</td>\n",
       "      <td>1</td>\n",
       "      <td>0</td>\n",
       "      <td>0</td>\n",
       "      <td>0</td>\n",
       "      <td>0</td>\n",
       "      <td>4</td>\n",
       "      <td>White</td>\n",
       "      <td>0</td>\n",
       "      <td>1</td>\n",
       "      <td>3</td>\n",
       "      <td>1</td>\n",
       "      <td>0</td>\n",
       "      <td>0</td>\n",
       "      <td>0</td>\n",
       "      <td>0</td>\n",
       "    </tr>\n",
       "    <tr>\n",
       "      <th>2</th>\n",
       "      <td>4</td>\n",
       "      <td>1</td>\n",
       "      <td>0</td>\n",
       "      <td>0</td>\n",
       "      <td>1</td>\n",
       "      <td>3</td>\n",
       "      <td>0</td>\n",
       "      <td>1</td>\n",
       "      <td>3</td>\n",
       "      <td>White</td>\n",
       "      <td>3</td>\n",
       "      <td>1</td>\n",
       "      <td>1</td>\n",
       "      <td>1</td>\n",
       "      <td>1</td>\n",
       "      <td>0</td>\n",
       "      <td>0</td>\n",
       "      <td>0</td>\n",
       "    </tr>\n",
       "    <tr>\n",
       "      <th>3</th>\n",
       "      <td>3</td>\n",
       "      <td>0</td>\n",
       "      <td>0</td>\n",
       "      <td>0</td>\n",
       "      <td>0</td>\n",
       "      <td>0</td>\n",
       "      <td>0</td>\n",
       "      <td>0</td>\n",
       "      <td>3</td>\n",
       "      <td>White</td>\n",
       "      <td>0</td>\n",
       "      <td>0</td>\n",
       "      <td>2</td>\n",
       "      <td>0</td>\n",
       "      <td>0</td>\n",
       "      <td>0</td>\n",
       "      <td>1</td>\n",
       "      <td>0</td>\n",
       "    </tr>\n",
       "    <tr>\n",
       "      <th>4</th>\n",
       "      <td>3</td>\n",
       "      <td>0</td>\n",
       "      <td>0</td>\n",
       "      <td>0</td>\n",
       "      <td>3</td>\n",
       "      <td>0</td>\n",
       "      <td>1</td>\n",
       "      <td>0</td>\n",
       "      <td>1</td>\n",
       "      <td>White</td>\n",
       "      <td>0</td>\n",
       "      <td>1</td>\n",
       "      <td>3</td>\n",
       "      <td>1</td>\n",
       "      <td>0</td>\n",
       "      <td>0</td>\n",
       "      <td>0</td>\n",
       "      <td>0</td>\n",
       "    </tr>\n",
       "    <tr>\n",
       "      <th>...</th>\n",
       "      <td>...</td>\n",
       "      <td>...</td>\n",
       "      <td>...</td>\n",
       "      <td>...</td>\n",
       "      <td>...</td>\n",
       "      <td>...</td>\n",
       "      <td>...</td>\n",
       "      <td>...</td>\n",
       "      <td>...</td>\n",
       "      <td>...</td>\n",
       "      <td>...</td>\n",
       "      <td>...</td>\n",
       "      <td>...</td>\n",
       "      <td>...</td>\n",
       "      <td>...</td>\n",
       "      <td>...</td>\n",
       "      <td>...</td>\n",
       "      <td>...</td>\n",
       "    </tr>\n",
       "    <tr>\n",
       "      <th>548907</th>\n",
       "      <td>5</td>\n",
       "      <td>1</td>\n",
       "      <td>0</td>\n",
       "      <td>0</td>\n",
       "      <td>0</td>\n",
       "      <td>0</td>\n",
       "      <td>1</td>\n",
       "      <td>0</td>\n",
       "      <td>3</td>\n",
       "      <td>White</td>\n",
       "      <td>3</td>\n",
       "      <td>0</td>\n",
       "      <td>2</td>\n",
       "      <td>1</td>\n",
       "      <td>1</td>\n",
       "      <td>0</td>\n",
       "      <td>0</td>\n",
       "      <td>1</td>\n",
       "    </tr>\n",
       "    <tr>\n",
       "      <th>548908</th>\n",
       "      <td>5</td>\n",
       "      <td>1</td>\n",
       "      <td>0</td>\n",
       "      <td>0</td>\n",
       "      <td>0</td>\n",
       "      <td>0</td>\n",
       "      <td>0</td>\n",
       "      <td>0</td>\n",
       "      <td>2</td>\n",
       "      <td>White</td>\n",
       "      <td>0</td>\n",
       "      <td>1</td>\n",
       "      <td>3</td>\n",
       "      <td>0</td>\n",
       "      <td>0</td>\n",
       "      <td>0</td>\n",
       "      <td>0</td>\n",
       "      <td>1</td>\n",
       "    </tr>\n",
       "    <tr>\n",
       "      <th>548909</th>\n",
       "      <td>5</td>\n",
       "      <td>0</td>\n",
       "      <td>0</td>\n",
       "      <td>0</td>\n",
       "      <td>0</td>\n",
       "      <td>0</td>\n",
       "      <td>0</td>\n",
       "      <td>1</td>\n",
       "      <td>3</td>\n",
       "      <td>White</td>\n",
       "      <td>0</td>\n",
       "      <td>1</td>\n",
       "      <td>3</td>\n",
       "      <td>1</td>\n",
       "      <td>0</td>\n",
       "      <td>0</td>\n",
       "      <td>1</td>\n",
       "      <td>1</td>\n",
       "    </tr>\n",
       "    <tr>\n",
       "      <th>548910</th>\n",
       "      <td>4</td>\n",
       "      <td>1</td>\n",
       "      <td>0</td>\n",
       "      <td>0</td>\n",
       "      <td>0</td>\n",
       "      <td>0</td>\n",
       "      <td>1</td>\n",
       "      <td>1</td>\n",
       "      <td>3</td>\n",
       "      <td>White</td>\n",
       "      <td>0</td>\n",
       "      <td>0</td>\n",
       "      <td>3</td>\n",
       "      <td>0</td>\n",
       "      <td>0</td>\n",
       "      <td>0</td>\n",
       "      <td>0</td>\n",
       "      <td>1</td>\n",
       "    </tr>\n",
       "    <tr>\n",
       "      <th>548911</th>\n",
       "      <td>7</td>\n",
       "      <td>0</td>\n",
       "      <td>0</td>\n",
       "      <td>0</td>\n",
       "      <td>0</td>\n",
       "      <td>1</td>\n",
       "      <td>1</td>\n",
       "      <td>0</td>\n",
       "      <td>4</td>\n",
       "      <td>White</td>\n",
       "      <td>0</td>\n",
       "      <td>0</td>\n",
       "      <td>1</td>\n",
       "      <td>0</td>\n",
       "      <td>0</td>\n",
       "      <td>0</td>\n",
       "      <td>0</td>\n",
       "      <td>1</td>\n",
       "    </tr>\n",
       "  </tbody>\n",
       "</table>\n",
       "<p>548912 rows × 18 columns</p>\n",
       "</div>"
      ],
      "text/plain": [
       "        BMI  Smoking  AlcoholDrinking  Stroke PhysicalHealth MentalHealth  \\\n",
       "0         1        1                0       0              0            3   \n",
       "1         3        0                0       1              0            0   \n",
       "2         4        1                0       0              1            3   \n",
       "3         3        0                0       0              0            0   \n",
       "4         3        0                0       0              3            0   \n",
       "...     ...      ...              ...     ...            ...          ...   \n",
       "548907    5        1                0       0              0            0   \n",
       "548908    5        1                0       0              0            0   \n",
       "548909    5        0                0       0              0            0   \n",
       "548910    4        1                0       0              0            0   \n",
       "548911    7        0                0       0              0            1   \n",
       "\n",
       "        DiffWalking  Sex AgeCategory   Race  Diabetic  PhysicalActivity  \\\n",
       "0                 0    0           2  White         3                 1   \n",
       "1                 0    0           4  White         0                 1   \n",
       "2                 0    1           3  White         3                 1   \n",
       "3                 0    0           3  White         0                 0   \n",
       "4                 1    0           1  White         0                 1   \n",
       "...             ...  ...         ...    ...       ...               ...   \n",
       "548907            1    0           3  White         3                 0   \n",
       "548908            0    0           2  White         0                 1   \n",
       "548909            0    1           3  White         0                 1   \n",
       "548910            1    1           3  White         0                 0   \n",
       "548911            1    0           4  White         0                 0   \n",
       "\n",
       "        GenHealth SleepTime  Asthma  KidneyDisease  SkinCancer  HeartDisease  \n",
       "0               3         0       1              0           1             0  \n",
       "1               3         1       0              0           0             0  \n",
       "2               1         1       1              0           0             0  \n",
       "3               2         0       0              0           1             0  \n",
       "4               3         1       0              0           0             0  \n",
       "...           ...       ...     ...            ...         ...           ...  \n",
       "548907          2         1       1              0           0             1  \n",
       "548908          3         0       0              0           0             1  \n",
       "548909          3         1       0              0           1             1  \n",
       "548910          3         0       0              0           0             1  \n",
       "548911          1         0       0              0           0             1  \n",
       "\n",
       "[548912 rows x 18 columns]"
      ]
     },
     "execution_count": 24,
     "metadata": {},
     "output_type": "execute_result"
    }
   ],
   "source": [
    "data"
   ]
  },
  {
   "cell_type": "markdown",
   "metadata": {},
   "source": [
    "# <div style=\"font-family: Trebuchet MS; background-color: #8A0030; color: #FFFFFF; padding: 12px; line-height: 1.5;\">1. |  feature selection 👋</div>"
   ]
  },
  {
   "cell_type": "markdown",
   "metadata": {},
   "source": [
    "Correlation among features"
   ]
  },
  {
   "cell_type": "code",
   "execution_count": 25,
   "metadata": {},
   "outputs": [
    {
     "data": {
      "image/png": "[encoded data removed]",
      "text/plain": [
       "<Figure size 1200x1200 with 2 Axes>"
      ]
     },
     "metadata": {},
     "output_type": "display_data"
    }
   ],
   "source": [
    "plt.figure(figsize=(12,12))\n",
    "correlation_matrix = data.select_dtypes(include=['int', 'float']).corr()\n",
    "sns.heatmap(correlation_matrix, annot=True)\n",
    "plt.title('Correlation Between Variables', fontsize = 30)\n",
    "plt.show()"
   ]
  },
  {
   "cell_type": "markdown",
   "metadata": {},
   "source": [
    "#### Remove column name 'Race'"
   ]
  },
  {
   "cell_type": "code",
   "execution_count": 26,
   "metadata": {},
   "outputs": [
    {
     "name": "stdout",
     "output_type": "stream",
     "text": [
      "['White' 'Black' 'Asian' 'American Indian/Alaskan Native' 'Other'\n",
      " 'Hispanic'] 6 unique in HeartDisease\n"
     ]
    }
   ],
   "source": [
    "data['Race']\n",
    "print(data['Race'].unique()  , len(data['Race'].unique()) , 'unique in',feature )"
   ]
  },
  {
   "cell_type": "code",
   "execution_count": 27,
   "metadata": {},
   "outputs": [],
   "source": [
    "data.drop('Race' , axis=1 , inplace=True)"
   ]
  },
  {
   "cell_type": "markdown",
   "metadata": {},
   "source": [
    "###select feature by class select percentile"
   ]
  },
  {
   "cell_type": "code",
   "execution_count": 28,
   "metadata": {},
   "outputs": [
    {
     "data": {
      "text/plain": [
       "BMI                  int64\n",
       "Smoking              int64\n",
       "AlcoholDrinking      int64\n",
       "Stroke               int64\n",
       "PhysicalHealth      object\n",
       "MentalHealth        object\n",
       "DiffWalking          int64\n",
       "Sex                  int64\n",
       "AgeCategory         object\n",
       "Diabetic             int64\n",
       "PhysicalActivity     int64\n",
       "GenHealth            int64\n",
       "SleepTime           object\n",
       "Asthma               int64\n",
       "KidneyDisease        int64\n",
       "SkinCancer           int64\n",
       "HeartDisease         int64\n",
       "dtype: object"
      ]
     },
     "execution_count": 28,
     "metadata": {},
     "output_type": "execute_result"
    }
   ],
   "source": [
    "data.dtypes"
   ]
  },
  {
   "cell_type": "code",
   "execution_count": 29,
   "metadata": {},
   "outputs": [],
   "source": [
    "# data['BMI'] = data['BMI'].astype(float)\n",
    "# data['SleepTime'] = data['SleepTime'].astype(float)\n",
    "# data['AgeCategory'] = data['AgeCategory '].astype(float)\n",
    "# data['PhysicalHealth'] = data['PhysicalHealth'].astype(float)\n",
    "# data['MentalHealth'] = data['MentalHealth'].astype(float)"
   ]
  },
  {
   "cell_type": "code",
   "execution_count": 30,
   "metadata": {},
   "outputs": [],
   "source": [
    "cat_cols = [] \n",
    "\n",
    "for col in data.columns:\n",
    "    if data[col].dtype == 'object':\n",
    "        cat_cols.append(col) "
   ]
  },
  {
   "cell_type": "code",
   "execution_count": 31,
   "metadata": {},
   "outputs": [
    {
     "data": {
      "text/plain": [
       "(548912, 16)"
      ]
     },
     "execution_count": 31,
     "metadata": {},
     "output_type": "execute_result"
    }
   ],
   "source": [
    "y=data['HeartDisease']\n",
    "X=data.drop(['HeartDisease'], axis=1)\n",
    "X.shape"
   ]
  },
  {
   "cell_type": "code",
   "execution_count": 32,
   "metadata": {},
   "outputs": [
    {
     "name": "stdout",
     "output_type": "stream",
     "text": [
      "(439129, 16)\n",
      "(109783, 16)\n"
     ]
    },
    {
     "data": {
      "text/html": [
       "<div>\n",
       "<style scoped>\n",
       "    .dataframe tbody tr th:only-of-type {\n",
       "        vertical-align: middle;\n",
       "    }\n",
       "\n",
       "    .dataframe tbody tr th {\n",
       "        vertical-align: top;\n",
       "    }\n",
       "\n",
       "    .dataframe thead th {\n",
       "        text-align: right;\n",
       "    }\n",
       "</style>\n",
       "<table border=\"1\" class=\"dataframe\">\n",
       "  <thead>\n",
       "    <tr style=\"text-align: right;\">\n",
       "      <th></th>\n",
       "      <th>BMI</th>\n",
       "      <th>Smoking</th>\n",
       "      <th>AlcoholDrinking</th>\n",
       "      <th>Stroke</th>\n",
       "      <th>PhysicalHealth</th>\n",
       "      <th>MentalHealth</th>\n",
       "      <th>DiffWalking</th>\n",
       "      <th>Sex</th>\n",
       "      <th>AgeCategory</th>\n",
       "      <th>Diabetic</th>\n",
       "      <th>PhysicalActivity</th>\n",
       "      <th>GenHealth</th>\n",
       "      <th>SleepTime</th>\n",
       "      <th>Asthma</th>\n",
       "      <th>KidneyDisease</th>\n",
       "      <th>SkinCancer</th>\n",
       "    </tr>\n",
       "  </thead>\n",
       "  <tbody>\n",
       "    <tr>\n",
       "      <th>69370</th>\n",
       "      <td>4</td>\n",
       "      <td>0</td>\n",
       "      <td>0</td>\n",
       "      <td>0</td>\n",
       "      <td>0</td>\n",
       "      <td>0</td>\n",
       "      <td>0</td>\n",
       "      <td>0</td>\n",
       "      <td>0</td>\n",
       "      <td>0</td>\n",
       "      <td>1</td>\n",
       "      <td>3</td>\n",
       "      <td>1</td>\n",
       "      <td>0</td>\n",
       "      <td>0</td>\n",
       "      <td>0</td>\n",
       "    </tr>\n",
       "    <tr>\n",
       "      <th>199879</th>\n",
       "      <td>5</td>\n",
       "      <td>0</td>\n",
       "      <td>0</td>\n",
       "      <td>0</td>\n",
       "      <td>0</td>\n",
       "      <td>0</td>\n",
       "      <td>0</td>\n",
       "      <td>0</td>\n",
       "      <td>2</td>\n",
       "      <td>3</td>\n",
       "      <td>1</td>\n",
       "      <td>1</td>\n",
       "      <td>1</td>\n",
       "      <td>0</td>\n",
       "      <td>0</td>\n",
       "      <td>0</td>\n",
       "    </tr>\n",
       "    <tr>\n",
       "      <th>422758</th>\n",
       "      <td>4</td>\n",
       "      <td>0</td>\n",
       "      <td>0</td>\n",
       "      <td>0</td>\n",
       "      <td>0</td>\n",
       "      <td>0</td>\n",
       "      <td>0</td>\n",
       "      <td>1</td>\n",
       "      <td>3</td>\n",
       "      <td>0</td>\n",
       "      <td>1</td>\n",
       "      <td>3</td>\n",
       "      <td>1</td>\n",
       "      <td>0</td>\n",
       "      <td>0</td>\n",
       "      <td>0</td>\n",
       "    </tr>\n",
       "    <tr>\n",
       "      <th>122298</th>\n",
       "      <td>6</td>\n",
       "      <td>0</td>\n",
       "      <td>1</td>\n",
       "      <td>0</td>\n",
       "      <td>0</td>\n",
       "      <td>0</td>\n",
       "      <td>0</td>\n",
       "      <td>1</td>\n",
       "      <td>3</td>\n",
       "      <td>0</td>\n",
       "      <td>0</td>\n",
       "      <td>3</td>\n",
       "      <td>1</td>\n",
       "      <td>0</td>\n",
       "      <td>0</td>\n",
       "      <td>1</td>\n",
       "    </tr>\n",
       "    <tr>\n",
       "      <th>536449</th>\n",
       "      <td>4</td>\n",
       "      <td>1</td>\n",
       "      <td>0</td>\n",
       "      <td>0</td>\n",
       "      <td>0</td>\n",
       "      <td>0</td>\n",
       "      <td>0</td>\n",
       "      <td>0</td>\n",
       "      <td>3</td>\n",
       "      <td>3</td>\n",
       "      <td>1</td>\n",
       "      <td>2</td>\n",
       "      <td>2</td>\n",
       "      <td>0</td>\n",
       "      <td>0</td>\n",
       "      <td>1</td>\n",
       "    </tr>\n",
       "  </tbody>\n",
       "</table>\n",
       "</div>"
      ],
      "text/plain": [
       "        BMI  Smoking  AlcoholDrinking  Stroke PhysicalHealth MentalHealth  \\\n",
       "69370     4        0                0       0              0            0   \n",
       "199879    5        0                0       0              0            0   \n",
       "422758    4        0                0       0              0            0   \n",
       "122298    6        0                1       0              0            0   \n",
       "536449    4        1                0       0              0            0   \n",
       "\n",
       "        DiffWalking  Sex AgeCategory  Diabetic  PhysicalActivity  GenHealth  \\\n",
       "69370             0    0           0         0                 1          3   \n",
       "199879            0    0           2         3                 1          1   \n",
       "422758            0    1           3         0                 1          3   \n",
       "122298            0    1           3         0                 0          3   \n",
       "536449            0    0           3         3                 1          2   \n",
       "\n",
       "       SleepTime  Asthma  KidneyDisease  SkinCancer  \n",
       "69370          1       0              0           0  \n",
       "199879         1       0              0           0  \n",
       "422758         1       0              0           0  \n",
       "122298         1       0              0           1  \n",
       "536449         2       0              0           1  "
      ]
     },
     "execution_count": 32,
     "metadata": {},
     "output_type": "execute_result"
    }
   ],
   "source": [
    "x_train, x_test, y_train, y_test = train_test_split(X, y, test_size=0.2, random_state=13)\n",
    "\n",
    "print(x_train.shape)\n",
    "print(x_test.shape)\n",
    "x_train.head()"
   ]
  },
  {
   "cell_type": "code",
   "execution_count": 33,
   "metadata": {},
   "outputs": [
    {
     "data": {
      "application/vnd.jupyter.widget-view+json": {
       "model_id": "0501dd66173442bb91988acf2b51dcdb",
       "version_major": 2,
       "version_minor": 0
      },
      "text/plain": [
       "MetricVisualizer(layout=Layout(align_self='stretch', height='500px'))"
      ]
     },
     "metadata": {},
     "output_type": "display_data"
    },
    {
     "name": "stdout",
     "output_type": "stream",
     "text": [
      "Learning rate set to 0.192565\n",
      "0:\tlearn: 0.6342653\ttest: 0.6344213\tbest: 0.6344213 (0)\ttotal: 284ms\tremaining: 2m 21s\n",
      "50:\tlearn: 0.4963650\ttest: 0.4966113\tbest: 0.4966113 (50)\ttotal: 11.7s\tremaining: 1m 42s\n",
      "100:\tlearn: 0.4947777\ttest: 0.4952906\tbest: 0.4952906 (100)\ttotal: 22.9s\tremaining: 1m 30s\n",
      "150:\tlearn: 0.4939306\ttest: 0.4946877\tbest: 0.4946877 (150)\ttotal: 33.6s\tremaining: 1m 17s\n",
      "200:\tlearn: 0.4931137\ttest: 0.4940797\tbest: 0.4940797 (200)\ttotal: 44.3s\tremaining: 1m 5s\n",
      "250:\tlearn: 0.4924866\ttest: 0.4935999\tbest: 0.4935999 (250)\ttotal: 54.6s\tremaining: 54.2s\n",
      "300:\tlearn: 0.4919318\ttest: 0.4932208\tbest: 0.4932208 (300)\ttotal: 1m 5s\tremaining: 43s\n",
      "350:\tlearn: 0.4914059\ttest: 0.4928126\tbest: 0.4928126 (350)\ttotal: 1m 15s\tremaining: 32.1s\n",
      "400:\tlearn: 0.4909367\ttest: 0.4923854\tbest: 0.4923854 (400)\ttotal: 1m 25s\tremaining: 21.2s\n",
      "450:\tlearn: 0.4904942\ttest: 0.4921317\tbest: 0.4921317 (450)\ttotal: 1m 36s\tremaining: 10.5s\n",
      "499:\tlearn: 0.4901818\ttest: 0.4919095\tbest: 0.4919095 (499)\ttotal: 1m 46s\tremaining: 0us\n",
      "\n",
      "bestTest = 0.491909546\n",
      "bestIteration = 499\n",
      "\n"
     ]
    },
    {
     "data": {
      "text/plain": [
       "<catboost.core.CatBoostClassifier at 0x7f2fcbadf970>"
      ]
     },
     "execution_count": 33,
     "metadata": {},
     "output_type": "execute_result"
    }
   ],
   "source": [
    "# # Specify index of categorical features in input data\n",
    "cat_features = [X.columns.get_loc(col) for col in cat_cols]\n",
    "\n",
    "# Model parameter dict\n",
    "params = {'iterations':500,\n",
    "          'loss_function':'Logloss',\n",
    "          'depth':4,\n",
    "          'early_stopping_rounds':20,\n",
    "          'custom_loss':['AUC', 'Accuracy']}\n",
    "\n",
    "# Instantiate model\n",
    "model = CatBoostClassifier(**params)\n",
    "\n",
    "# Fit model\n",
    "model.fit(\n",
    "    x_train,\n",
    "    y_train,\n",
    "    cat_features=cat_features,\n",
    "    eval_set=(x_test, y_test),\n",
    "    verbose=50,\n",
    "    plot=True\n",
    ")"
   ]
  },
  {
   "cell_type": "code",
   "execution_count": 35,
   "metadata": {},
   "outputs": [],
   "source": [
    "# Make predictions on test data\n",
    "preds = model.predict(x_test)                                     "
   ]
  },
  {
   "cell_type": "code",
   "execution_count": 36,
   "metadata": {},
   "outputs": [
    {
     "name": "stdout",
     "output_type": "stream",
     "text": [
      "              precision    recall  f1-score   support\n",
      "\n",
      "           0       0.79      0.72      0.75     55167\n",
      "           1       0.74      0.81      0.77     54616\n",
      "\n",
      "    accuracy                           0.76    109783\n",
      "   macro avg       0.76      0.76      0.76    109783\n",
      "weighted avg       0.77      0.76      0.76    109783\n",
      "\n",
      "[[39625 15542]\n",
      " [10509 44107]]\n"
     ]
    }
   ],
   "source": [
    "# Evaluate predictions\n",
    "print(classification_report(y_test, preds))\n",
    "print(confusion_matrix(y_test, preds))"
   ]
  },
  {
   "cell_type": "code",
   "execution_count": 38,
   "metadata": {},
   "outputs": [
    {
     "name": "stdout",
     "output_type": "stream",
     "text": [
      "Logistic Regression\n",
      "Model performance for Training set\n",
      "- Train Accuracy: 0.7550\n",
      "Model performance for Test set\n",
      "- Test Accuracy: 0.7537\n",
      "===================================\n",
      "\n",
      "\n",
      "Random Forest Classifier\n",
      "Model performance for Training set\n",
      "- Train Accuracy: 0.8631\n",
      "Model performance for Test set\n",
      "- Test Accuracy: 0.8425\n",
      "===================================\n",
      "\n",
      "\n",
      "Gradient Boosting Classifier\n",
      "Model performance for Training set\n",
      "- Train Accuracy: 0.7602\n",
      "Model performance for Test set\n",
      "- Test Accuracy: 0.7593\n",
      "===================================\n",
      "\n",
      "\n",
      "Decision Tree Classifier\n",
      "Model performance for Training set\n",
      "- Train Accuracy: 0.8631\n",
      "Model performance for Test set\n",
      "- Test Accuracy: 0.8396\n",
      "===================================\n",
      "\n",
      "\n"
     ]
    }
   ],
   "source": [
    "from sklearn.linear_model import LogisticRegression\n",
    "from sklearn.ensemble import RandomForestClassifier, GradientBoostingClassifier\n",
    "from sklearn.tree import DecisionTreeClassifier\n",
    "from sklearn.neighbors import KNeighborsClassifier\n",
    "from sklearn.svm import SVC\n",
    "from sklearn.metrics import accuracy_score, precision_score, recall_score, f1_score, confusion_matrix\n",
    "import numpy as np\n",
    "\n",
    "# Define classification models\n",
    "models = {\n",
    "    \"Logistic Regression\": LogisticRegression(),\n",
    "    \"Random Forest Classifier\": RandomForestClassifier(),\n",
    "    \"Gradient Boosting Classifier\": GradientBoostingClassifier(),\n",
    "    \"Decision Tree Classifier\": DecisionTreeClassifier(),\n",
    "#   \"K-Neighbors Classifier\": KNeighborsClassifier(),\n",
    "#\"Support Vector Classifier\": SVC(),\n",
    "}\n",
    "\n",
    "model_list = []\n",
    "accuracy_list = []\n",
    "\n",
    "for model_name, model in models.items():\n",
    "    # Train model\n",
    "    model.fit(X_train, y_train)\n",
    "    \n",
    "    # Make predictions\n",
    "    y_train_pred = model.predict(X_train)\n",
    "    y_test_pred = model.predict(X_test)\n",
    "    \n",
    "    # Evaluate the model\n",
    "    train_accuracy = accuracy_score(y_train, y_train_pred)\n",
    "    test_accuracy = accuracy_score(y_test, y_test_pred)\n",
    "    \n",
    "    model_list.append(model_name)\n",
    "    accuracy_list.append(test_accuracy)\n",
    "    \n",
    "    print(model_name)\n",
    "    print('Model performance for Training set')\n",
    "    print(\"- Train Accuracy: {:.4f}\".format(train_accuracy))\n",
    "    \n",
    "    print('Model performance for Test set')\n",
    "    print(\"- Test Accuracy: {:.4f}\".format(test_accuracy))\n",
    "    print('=' * 35)\n",
    "    print('\\n')\n"
   ]
  },
  {
   "cell_type": "code",
   "execution_count": 39,
   "metadata": {},
   "outputs": [
    {
     "data": {
      "text/html": [
       "<div>\n",
       "<style scoped>\n",
       "    .dataframe tbody tr th:only-of-type {\n",
       "        vertical-align: middle;\n",
       "    }\n",
       "\n",
       "    .dataframe tbody tr th {\n",
       "        vertical-align: top;\n",
       "    }\n",
       "\n",
       "    .dataframe thead th {\n",
       "        text-align: right;\n",
       "    }\n",
       "</style>\n",
       "<table border=\"1\" class=\"dataframe\">\n",
       "  <thead>\n",
       "    <tr style=\"text-align: right;\">\n",
       "      <th></th>\n",
       "      <th>Model Name</th>\n",
       "      <th>Accuracy</th>\n",
       "    </tr>\n",
       "  </thead>\n",
       "  <tbody>\n",
       "    <tr>\n",
       "      <th>1</th>\n",
       "      <td>Random Forest Classifier</td>\n",
       "      <td>0.842453</td>\n",
       "    </tr>\n",
       "    <tr>\n",
       "      <th>3</th>\n",
       "      <td>Decision Tree Classifier</td>\n",
       "      <td>0.839593</td>\n",
       "    </tr>\n",
       "    <tr>\n",
       "      <th>2</th>\n",
       "      <td>Gradient Boosting Classifier</td>\n",
       "      <td>0.759334</td>\n",
       "    </tr>\n",
       "    <tr>\n",
       "      <th>0</th>\n",
       "      <td>Logistic Regression</td>\n",
       "      <td>0.753705</td>\n",
       "    </tr>\n",
       "  </tbody>\n",
       "</table>\n",
       "</div>"
      ],
      "text/plain": [
       "                     Model Name  Accuracy\n",
       "1      Random Forest Classifier  0.842453\n",
       "3      Decision Tree Classifier  0.839593\n",
       "2  Gradient Boosting Classifier  0.759334\n",
       "0           Logistic Regression  0.753705"
      ]
     },
     "execution_count": 39,
     "metadata": {},
     "output_type": "execute_result"
    }
   ],
   "source": [
    "classification_results = pd.DataFrame(list(zip(model_list, accuracy_list)), columns=['Model Name', 'Accuracy'])\n",
    "# Sort the DataFrame by Accuracy in descending order\n",
    "classification_results = classification_results.sort_values(by=[\"Accuracy\"], ascending=False)\n",
    "classification_results"
   ]
  },
  {
   "cell_type": "code",
   "execution_count": 53,
   "metadata": {},
   "outputs": [
    {
     "data": {
      "text/html": [
       "<style>#sk-container-id-1 {color: black;}#sk-container-id-1 pre{padding: 0;}#sk-container-id-1 div.sk-toggleable {background-color: white;}#sk-container-id-1 label.sk-toggleable__label {cursor: pointer;display: block;width: 100%;margin-bottom: 0;padding: 0.3em;box-sizing: border-box;text-align: center;}#sk-container-id-1 label.sk-toggleable__label-arrow:before {content: \"▸\";float: left;margin-right: 0.25em;color: #696969;}#sk-container-id-1 label.sk-toggleable__label-arrow:hover:before {color: black;}#sk-container-id-1 div.sk-estimator:hover label.sk-toggleable__label-arrow:before {color: black;}#sk-container-id-1 div.sk-toggleable__content {max-height: 0;max-width: 0;overflow: hidden;text-align: left;background-color: #f0f8ff;}#sk-container-id-1 div.sk-toggleable__content pre {margin: 0.2em;color: black;border-radius: 0.25em;background-color: #f0f8ff;}#sk-container-id-1 input.sk-toggleable__control:checked~div.sk-toggleable__content {max-height: 200px;max-width: 100%;overflow: auto;}#sk-container-id-1 input.sk-toggleable__control:checked~label.sk-toggleable__label-arrow:before {content: \"▾\";}#sk-container-id-1 div.sk-estimator input.sk-toggleable__control:checked~label.sk-toggleable__label {background-color: #d4ebff;}#sk-container-id-1 div.sk-label input.sk-toggleable__control:checked~label.sk-toggleable__label {background-color: #d4ebff;}#sk-container-id-1 input.sk-hidden--visually {border: 0;clip: rect(1px 1px 1px 1px);clip: rect(1px, 1px, 1px, 1px);height: 1px;margin: -1px;overflow: hidden;padding: 0;position: absolute;width: 1px;}#sk-container-id-1 div.sk-estimator {font-family: monospace;background-color: #f0f8ff;border: 1px dotted black;border-radius: 0.25em;box-sizing: border-box;margin-bottom: 0.5em;}#sk-container-id-1 div.sk-estimator:hover {background-color: #d4ebff;}#sk-container-id-1 div.sk-parallel-item::after {content: \"\";width: 100%;border-bottom: 1px solid gray;flex-grow: 1;}#sk-container-id-1 div.sk-label:hover label.sk-toggleable__label {background-color: #d4ebff;}#sk-container-id-1 div.sk-serial::before {content: \"\";position: absolute;border-left: 1px solid gray;box-sizing: border-box;top: 0;bottom: 0;left: 50%;z-index: 0;}#sk-container-id-1 div.sk-serial {display: flex;flex-direction: column;align-items: center;background-color: white;padding-right: 0.2em;padding-left: 0.2em;position: relative;}#sk-container-id-1 div.sk-item {position: relative;z-index: 1;}#sk-container-id-1 div.sk-parallel {display: flex;align-items: stretch;justify-content: center;background-color: white;position: relative;}#sk-container-id-1 div.sk-item::before, #sk-container-id-1 div.sk-parallel-item::before {content: \"\";position: absolute;border-left: 1px solid gray;box-sizing: border-box;top: 0;bottom: 0;left: 50%;z-index: -1;}#sk-container-id-1 div.sk-parallel-item {display: flex;flex-direction: column;z-index: 1;position: relative;background-color: white;}#sk-container-id-1 div.sk-parallel-item:first-child::after {align-self: flex-end;width: 50%;}#sk-container-id-1 div.sk-parallel-item:last-child::after {align-self: flex-start;width: 50%;}#sk-container-id-1 div.sk-parallel-item:only-child::after {width: 0;}#sk-container-id-1 div.sk-dashed-wrapped {border: 1px dashed gray;margin: 0 0.4em 0.5em 0.4em;box-sizing: border-box;padding-bottom: 0.4em;background-color: white;}#sk-container-id-1 div.sk-label label {font-family: monospace;font-weight: bold;display: inline-block;line-height: 1.2em;}#sk-container-id-1 div.sk-label-container {text-align: center;}#sk-container-id-1 div.sk-container {/* jupyter's `normalize.less` sets `[hidden] { display: none; }` but bootstrap.min.css set `[hidden] { display: none !important; }` so we also need the `!important` here to be able to override the default hidden behavior on the sphinx rendered scikit-learn.org. See: https://github.com/scikit-learn/scikit-learn/issues/21755 */display: inline-block !important;position: relative;}#sk-container-id-1 div.sk-text-repr-fallback {display: none;}</style><div id=\"sk-container-id-1\" class=\"sk-top-container\"><div class=\"sk-text-repr-fallback\"><pre>RandomForestClassifier()</pre><b>In a Jupyter environment, please rerun this cell to show the HTML representation or trust the notebook. <br />On GitHub, the HTML representation is unable to render, please try loading this page with nbviewer.org.</b></div><div class=\"sk-container\" hidden><div class=\"sk-item\"><div class=\"sk-estimator sk-toggleable\"><input class=\"sk-toggleable__control sk-hidden--visually\" id=\"sk-estimator-id-1\" type=\"checkbox\" checked><label for=\"sk-estimator-id-1\" class=\"sk-toggleable__label sk-toggleable__label-arrow\">RandomForestClassifier</label><div class=\"sk-toggleable__content\"><pre>RandomForestClassifier()</pre></div></div></div></div></div>"
      ],
      "text/plain": [
       "RandomForestClassifier()"
      ]
     },
     "execution_count": 53,
     "metadata": {},
     "output_type": "execute_result"
    }
   ],
   "source": [
    "from sklearn.ensemble import RandomForestClassifier\n",
    "from sklearn.metrics import accuracy_score\n",
    "\n",
    "random_forest_model = RandomForestClassifier()\n",
    "random_forest_model.fit(X_train, y_train)"
   ]
  },
  {
   "cell_type": "code",
   "execution_count": 57,
   "metadata": {},
   "outputs": [
    {
     "data": {
      "text/plain": [
       "array([0.12531504, 0.02819893, 0.01468258, 0.04369477, 0.04496324,\n",
       "       0.04238293, 0.05569433, 0.04017336, 0.24151731, 0.0591457 ,\n",
       "       0.03279491, 0.1415995 , 0.06309243, 0.02694561, 0.01763258,\n",
       "       0.02216678])"
      ]
     },
     "execution_count": 57,
     "metadata": {},
     "output_type": "execute_result"
    }
   ],
   "source": [
    "feature_importances = random_forest_model.feature_importances_\n",
    "feature_importances"
   ]
  },
  {
   "cell_type": "markdown",
   "metadata": {},
   "source": [
    "> > "
   ]
  },
  {
   "cell_type": "code",
   "execution_count": 58,
   "metadata": {},
   "outputs": [
    {
     "name": "stdout",
     "output_type": "stream",
     "text": [
      "Accuracy of the model: 84.26%\n"
     ]
    }
   ],
   "source": [
    "y_pred = random_forest_model.predict(X_test)\n",
    "accuracy = accuracy_score(y_test, y_pred)\n",
    "print(\"Accuracy of the model: {:.2f}%\".format(accuracy * 100))"
   ]
  },
  {
   "cell_type": "markdown",
   "metadata": {},
   "source": [
    "# Plot y_pred and y_test"
   ]
  },
  {
   "cell_type": "code",
   "execution_count": 59,
   "metadata": {},
   "outputs": [
    {
     "data": {
      "image/png": "[encoded data removed]",
      "text/plain": [
       "<Figure size 600x400 with 2 Axes>"
      ]
     },
     "metadata": {},
     "output_type": "display_data"
    }
   ],
   "source": [
    "import matplotlib.pyplot as plt\n",
    "import seaborn as sns\n",
    "from sklearn.metrics import classification_report, confusion_matrix\n",
    "\n",
    "# Assuming you have already trained your random_forest_model and made predictions (y_pred)\n",
    "# Calculate the confusion matrix\n",
    "conf_matrix = confusion_matrix(y_test, y_pred)\n",
    "\n",
    "# Create a heatmap for the combined confusion matrix\n",
    "plt.figure(figsize=(6, 4))\n",
    "plt.title('Combined Confusion Matrix')\n",
    "sns.heatmap(conf_matrix, annot=True, fmt=\"d\", cmap=\"Blues\")\n",
    "plt.xlabel(\"Predicted\")\n",
    "plt.ylabel(\"Actual\")\n",
    "plt.show()\n"
   ]
  },
  {
   "cell_type": "code",
   "execution_count": 60,
   "metadata": {},
   "outputs": [
    {
     "name": "stdout",
     "output_type": "stream",
     "text": [
      "Classification Report:\n",
      "              precision    recall  f1-score   support\n",
      "\n",
      "           0       0.87      0.81      0.84     54903\n",
      "           1       0.82      0.87      0.85     54880\n",
      "\n",
      "    accuracy                           0.84    109783\n",
      "   macro avg       0.84      0.84      0.84    109783\n",
      "weighted avg       0.84      0.84      0.84    109783\n",
      "\n"
     ]
    }
   ],
   "source": [
    "\n",
    "# Calculate the classification report\n",
    "classification_rep = classification_report(y_test, y_pred)\n",
    "\n",
    "# Print the classification report\n",
    "print(\"Classification Report:\")\n",
    "print(classification_rep)\n"
   ]
  },
  {
   "cell_type": "markdown",
   "metadata": {},
   "source": [
    "###select feature by class SelectFromModel"
   ]
  },
  {
   "cell_type": "code",
   "execution_count": 61,
   "metadata": {},
   "outputs": [],
   "source": [
    "import pickle\n",
    "MODEL_STORAGE_PATH = 'models/'\n",
    "random_forest_model = RandomForestClassifier()\n",
    "model_name = f'heart_disease_model_{datetime.today().strftime(\"%Y-%m-%d\")}'\n",
    "with open(MODEL_STORAGE_PATH + model_name + '.pkl', 'wb') as model_file:\n",
    "    pickle.dump(random_forest_model, model_file)"
   ]
  },
  {
   "cell_type": "code",
   "execution_count": null,
   "metadata": {},
   "outputs": [],
   "source": []
  }
 ],
 "metadata": {
  "kernelspec": {
   "display_name": "Python 3 (ipykernel)",
   "language": "python",
   "name": "python3"
  },
  "language_info": {
   "codemirror_mode": {
    "name": "ipython",
    "version": 3
   },
   "file_extension": ".py",
   "mimetype": "text/x-python",
   "name": "python",
   "nbconvert_exporter": "python",
   "pygments_lexer": "ipython3",
   "version": "3.10.8"
  }
 },
 "nbformat": 4,
 "nbformat_minor": 4
}
